{
 "metadata": {
  "language_info": {
   "codemirror_mode": {
    "name": "ipython",
    "version": 3
   },
   "file_extension": ".py",
   "mimetype": "text/x-python",
   "name": "python",
   "nbconvert_exporter": "python",
   "pygments_lexer": "ipython3",
   "version": "3.8.8"
  },
  "orig_nbformat": 4,
  "kernelspec": {
   "name": "python3",
   "display_name": "Python 3.8.8 64-bit"
  },
  "interpreter": {
   "hash": "912010baf4bb90041d1ad81dcecc32bbbfca13fd6e059f3921407f6ca36161e8"
  }
 },
 "nbformat": 4,
 "nbformat_minor": 2,
 "cells": [
  {
   "source": [
    "## Config"
   ],
   "cell_type": "markdown",
   "metadata": {}
  },
  {
   "cell_type": "code",
   "execution_count": 1,
   "metadata": {},
   "outputs": [],
   "source": [
    "# number of restaurants to be captured -> total number = NUM_iter X 30\n",
    "NUM_iter = 2"
   ]
  },
  {
   "source": [
    "## Initialize libraries"
   ],
   "cell_type": "markdown",
   "metadata": {}
  },
  {
   "cell_type": "code",
   "execution_count": 2,
   "metadata": {},
   "outputs": [],
   "source": [
    "# !pip install selenium\n",
    "# !pip install bs4\n",
    "# !pip install pandas\n",
    "# !pip install webdriver_manager"
   ]
  },
  {
   "cell_type": "code",
   "execution_count": 3,
   "metadata": {},
   "outputs": [
    {
     "output_type": "stream",
     "name": "stderr",
     "text": [
      "\n",
      "\n",
      "====== WebDriver manager ======\n",
      "Current google-chrome version is 91.0.4472\n",
      "Get LATEST driver version for 91.0.4472\n",
      "Get LATEST driver version for 91.0.4472\n",
      "Trying to download new driver from https://chromedriver.storage.googleapis.com/91.0.4472.101/chromedriver_win32.zip\n",
      "Driver has been saved in cache [C:\\Users\\mhodo\\.wdm\\drivers\\chromedriver\\win32\\91.0.4472.101]\n"
     ]
    }
   ],
   "source": [
    "from selenium import webdriver\n",
    "from bs4 import BeautifulSoup\n",
    "import pandas as pd\n",
    "from selenium import webdriver\n",
    "from selenium.webdriver.common.keys import Keys\n",
    "from webdriver_manager.chrome import ChromeDriverManager\n",
    "driver = webdriver.Chrome(ChromeDriverManager().install())"
   ]
  },
  {
   "source": [
    "## Functions"
   ],
   "cell_type": "markdown",
   "metadata": {}
  },
  {
   "cell_type": "code",
   "execution_count": 4,
   "metadata": {},
   "outputs": [],
   "source": [
    "# find next button\n",
    "def find_next_button(soup):\n",
    "    return soup.find('a', {'class': 'next'})"
   ]
  },
  {
   "cell_type": "code",
   "execution_count": 5,
   "metadata": {},
   "outputs": [],
   "source": [
    "def get_links_to_restaurants(soup):\n",
    "    row_list = []\n",
    "\n",
    "    link_tags = soup.findAll('a', {'class': '_15_ydu6b'})\n",
    "\n",
    "    for tag in link_tags:\n",
    "        try:    \n",
    "            link = 'https://www.tripadvisor.com' + tag.attrs['href']\n",
    "            text = tag.get_text().replace('. ', '.')\n",
    "            rank, name = text.split('.', 1)\n",
    "            row_list.append({'rank': rank, 'name': name, 'link': link})\n",
    "        except:\n",
    "            pass\n",
    "    return row_list"
   ]
  },
  {
   "cell_type": "code",
   "execution_count": 6,
   "metadata": {},
   "outputs": [],
   "source": [
    "def get_page_elements(soup):\n",
    "    rating = None\n",
    "    num_of_reviews = None\n",
    "    address = None\n",
    "    phone_number = None\n",
    "    website_link = None\n",
    "    menu_link = None\n",
    "    price_range_symbol = None\n",
    "    price_range = None\n",
    "    cuisines = None\n",
    "    special_diets = None\n",
    "    meals = None\n",
    "    features = None\n",
    "    about = None\n",
    "\n",
    "     # ratings\n",
    "    rating = soup.find('span', {'class': 'r2Cf69qf'})\n",
    "    try:\n",
    "        rating = rating.get_text().replace(u'\\xa0', u' ')\n",
    "        rating = float(rating)\n",
    "    except:\n",
    "        rating = 0\n",
    "\n",
    "    #  reviews\n",
    "    reviews = soup.find('span', {'class': 'reviews_header_count'})\n",
    "    try:\n",
    "        reviews = reviews.get_text().replace('(', '').replace(')', '').replace(',', '')\n",
    "        num_of_reviews = int(reviews)\n",
    "    except:\n",
    "        num_of_reviews = 0\n",
    "\n",
    "    # addresses\n",
    "    address = soup.find('a', {'class': '_15QfMZ2L', 'href': '#MAPVIEW'})\n",
    "    try:\n",
    "        address = address.get_text()\n",
    "    except:\n",
    "        address = 0\n",
    "\n",
    "    # phone numbers\n",
    "    phone_number = soup.find('span', {'class': '_15QfMZ2L'})\n",
    "    try:\n",
    "        phone_number = phone_number.get_text()\n",
    "    except:\n",
    "        phone_number = 0\n",
    "\n",
    "    # website links\n",
    "    website_link = soup.find('a', {'class': '_2wKz--mA _15QfMZ2L'})\n",
    "    try:\n",
    "        website_link = website_link.attrs['href']\n",
    "    except:\n",
    "        website_link = 0\n",
    "\n",
    "    # menu links\n",
    "    menu_link = soup.findAll('a', {'class': '_2wKz--mA _15QfMZ2L'})\n",
    "    try:\n",
    "        menu_link = menu_link[1].attrs['href']\n",
    "    except:\n",
    "        menu_link = 0\n",
    "\n",
    "    # price range symbols\n",
    "    price_range_symbol = soup.find('a', {'class': '_2mn01bsa'})\n",
    "    try:\n",
    "        price_range_symbol = price_range_symbol.get_text()\n",
    "    except:\n",
    "        price_range_symbol = 0\n",
    "\n",
    "    # price ranges\n",
    "    range1 = soup.find('div', {'class': '_1XLfiSsv'})\n",
    "    range2 = soup.find('div', {'class': '_60ofm15k'})\n",
    "    \n",
    "    if range1:\n",
    "        range1_text = range1.get_text()\n",
    "        range1_text = range1_text.replace(u'\\xa0', u' ')\n",
    "        if 'PLN' in range1_text:\n",
    "            price_range = range1_text\n",
    "        else:\n",
    "            price_range = 0\n",
    "    elif range2:\n",
    "        range2_text = range2.get_text()\n",
    "        range2_text = range2_text.replace(u'\\xa0', u' ')\n",
    "        if 'PLN' in range2_text:\n",
    "            price_range = range2_text\n",
    "        else:\n",
    "            price_range = 0\n",
    "    else:\n",
    "        price_range = 0\n",
    "\n",
    "    # cuisines\n",
    "    cuisines_soup = soup.find('div', text='CUISINES')\n",
    "    try:\n",
    "        cuisines_soup2 = cuisines_soup.nextSibling\n",
    "        cuisines = cuisines_soup2.get_text()\n",
    "    except:\n",
    "        cuisines = 0\n",
    "\n",
    "    # special diets\n",
    "    special_diets_soup = soup.find('div', text='Special Diets')\n",
    "    try:\n",
    "        special_diets_soup2 = special_diets_soup.nextSibling\n",
    "        special_diets = special_diets_soup2.get_text()\n",
    "    except:\n",
    "        special_diets = 0\n",
    "\n",
    "    # meals\n",
    "    meals_soup = soup.find('div', text='Meals')\n",
    "    try:\n",
    "        meals_soup2 = meals_soup.nextSibling\n",
    "        meals = meals_soup2.get_text()\n",
    "    except:\n",
    "        meals = 0\n",
    "\n",
    "    # features\n",
    "    features_soup = soup.find('div', text='FEATURES')\n",
    "    try:\n",
    "        features_soup2 = features_soup.nextSibling\n",
    "        features = features_soup2.get_text()\n",
    "    except:\n",
    "        features = 0\n",
    "\n",
    "    # about\n",
    "    about_soup1 = soup.find('div', {'class': '_2D5jETbG'})\n",
    "    about_soup2 = soup.find('div', {'class': '_3tRlph6J'})\n",
    "\n",
    "    if about_soup1:\n",
    "        about = about_soup1.get_text()\n",
    "    elif about_soup2:\n",
    "        about = about_soup2.get_text()\n",
    "    else:\n",
    "        about = 0\n",
    "\n",
    "    return {'rating': rating, 'num_of_reviews': num_of_reviews, 'address': address, 'phone_number': phone_number, 'website_link': website_link, 'menu_link': menu_link, 'price_range_symbol': price_range_symbol, 'price_range': price_range, 'cuisines': cuisines, 'special_diets': special_diets, 'meals': meals, 'features': features, 'about': about}"
   ]
  },
  {
   "cell_type": "code",
   "execution_count": 7,
   "metadata": {},
   "outputs": [],
   "source": [
    "def iterate_over_pages(links_to_restaurants):\n",
    "    # open new tab\n",
    "    driver.execute_script(\"window.open('');\")\n",
    "    # switch to the new window\n",
    "    driver.switch_to.window(driver.window_handles[1])\n",
    "\n",
    "    rows_list = []\n",
    "\n",
    "    for link in links_to_restaurants:\n",
    "        driver.get(link['link'])\n",
    "        try:\n",
    "            driver.find_element_by_class_name(\"_3xJIW2mF\").click()\n",
    "        except:\n",
    "            pass\n",
    "        content = driver.page_source\n",
    "        soup = BeautifulSoup(content)\n",
    "        elements_dict = get_page_elements(soup)\n",
    "        rows_list.append(elements_dict)\n",
    "\n",
    "    # close new tab\n",
    "    driver.close()\n",
    "    # switching to old tab\n",
    "    driver.switch_to.window(driver.window_handles[0])\n",
    "\n",
    "    return rows_list"
   ]
  },
  {
   "cell_type": "code",
   "execution_count": 8,
   "metadata": {},
   "outputs": [],
   "source": [
    "def process_main_page(soup):\n",
    "    # accept cookies\n",
    "    try:\n",
    "        driver.find_element_by_id(\"_evidon-accept-button\").click()\n",
    "    except:\n",
    "        pass\n",
    "\n",
    "    next_button = find_next_button(soup)\n",
    "\n",
    "    return [get_links_to_restaurants(soup), next_button]"
   ]
  },
  {
   "source": [
    "## Open main page and get links"
   ],
   "cell_type": "markdown",
   "metadata": {}
  },
  {
   "cell_type": "code",
   "execution_count": 9,
   "metadata": {},
   "outputs": [],
   "source": [
    "url = 'https://www.tripadvisor.com/Restaurants-g274772-Krakow_Lesser_Poland_Province_Southern_Poland.html'"
   ]
  },
  {
   "cell_type": "code",
   "execution_count": 10,
   "metadata": {},
   "outputs": [],
   "source": [
    "# open main page with restaurants list\n",
    "driver.get(url)\n",
    "\n",
    "# parse html\n",
    "content = driver.page_source\n",
    "soup = BeautifulSoup(content)\n",
    "links_to_restaurants, next_button = process_main_page(soup)"
   ]
  },
  {
   "cell_type": "code",
   "execution_count": 11,
   "metadata": {},
   "outputs": [],
   "source": [
    "iterations = 1\n",
    "while next_button and NUM_iter > iterations:\n",
    "    iterations = iterations + 1\n",
    "    driver.get('https://www.tripadvisor.com' + next_button.attrs['href'])\n",
    "    content = driver.page_source\n",
    "    soup = BeautifulSoup(content)\n",
    "    new_links_to_restaurants, next_button = process_main_page(soup)\n",
    "    links_to_restaurants = links_to_restaurants + new_links_to_restaurants"
   ]
  },
  {
   "source": [
    "## Create DataFrame"
   ],
   "cell_type": "markdown",
   "metadata": {}
  },
  {
   "cell_type": "code",
   "execution_count": 12,
   "metadata": {},
   "outputs": [],
   "source": [
    "df_1 = pd.DataFrame(links_to_restaurants)"
   ]
  },
  {
   "cell_type": "code",
   "execution_count": 13,
   "metadata": {},
   "outputs": [
    {
     "output_type": "execute_result",
     "data": {
      "text/plain": [
       "      rank                   name  \\\n",
       "0        1            Salta Resto   \n",
       "1        2      Garden Restaurant   \n",
       "2        3       Amalia Brasserie   \n",
       "3        4                  Folga   \n",
       "4        5      Qrudo Food & Wine   \n",
       "...    ...                    ...   \n",
       "1789  1790               Szklanki   \n",
       "1790  1791       Lumi Wine & Food   \n",
       "1791  1792  Sushi Rolls Grab & Go   \n",
       "1792  1793     Food Truck Makarun   \n",
       "1793  1794            Szalej Cafe   \n",
       "\n",
       "                                                   link  \n",
       "0     https://www.tripadvisor.com/Restaurant_Review-...  \n",
       "1     https://www.tripadvisor.com/Restaurant_Review-...  \n",
       "2     https://www.tripadvisor.com/Restaurant_Review-...  \n",
       "3     https://www.tripadvisor.com/Restaurant_Review-...  \n",
       "4     https://www.tripadvisor.com/Restaurant_Review-...  \n",
       "...                                                 ...  \n",
       "1789  https://www.tripadvisor.com/Restaurant_Review-...  \n",
       "1790  https://www.tripadvisor.com/Restaurant_Review-...  \n",
       "1791  https://www.tripadvisor.com/Restaurant_Review-...  \n",
       "1792  https://www.tripadvisor.com/Restaurant_Review-...  \n",
       "1793  https://www.tripadvisor.com/Restaurant_Review-...  \n",
       "\n",
       "[1794 rows x 3 columns]"
      ],
      "text/html": "<div>\n<style scoped>\n    .dataframe tbody tr th:only-of-type {\n        vertical-align: middle;\n    }\n\n    .dataframe tbody tr th {\n        vertical-align: top;\n    }\n\n    .dataframe thead th {\n        text-align: right;\n    }\n</style>\n<table border=\"1\" class=\"dataframe\">\n  <thead>\n    <tr style=\"text-align: right;\">\n      <th></th>\n      <th>rank</th>\n      <th>name</th>\n      <th>link</th>\n    </tr>\n  </thead>\n  <tbody>\n    <tr>\n      <th>0</th>\n      <td>1</td>\n      <td>Salta Resto</td>\n      <td>https://www.tripadvisor.com/Restaurant_Review-...</td>\n    </tr>\n    <tr>\n      <th>1</th>\n      <td>2</td>\n      <td>Garden Restaurant</td>\n      <td>https://www.tripadvisor.com/Restaurant_Review-...</td>\n    </tr>\n    <tr>\n      <th>2</th>\n      <td>3</td>\n      <td>Amalia Brasserie</td>\n      <td>https://www.tripadvisor.com/Restaurant_Review-...</td>\n    </tr>\n    <tr>\n      <th>3</th>\n      <td>4</td>\n      <td>Folga</td>\n      <td>https://www.tripadvisor.com/Restaurant_Review-...</td>\n    </tr>\n    <tr>\n      <th>4</th>\n      <td>5</td>\n      <td>Qrudo Food &amp; Wine</td>\n      <td>https://www.tripadvisor.com/Restaurant_Review-...</td>\n    </tr>\n    <tr>\n      <th>...</th>\n      <td>...</td>\n      <td>...</td>\n      <td>...</td>\n    </tr>\n    <tr>\n      <th>1789</th>\n      <td>1790</td>\n      <td>Szklanki</td>\n      <td>https://www.tripadvisor.com/Restaurant_Review-...</td>\n    </tr>\n    <tr>\n      <th>1790</th>\n      <td>1791</td>\n      <td>Lumi Wine &amp; Food</td>\n      <td>https://www.tripadvisor.com/Restaurant_Review-...</td>\n    </tr>\n    <tr>\n      <th>1791</th>\n      <td>1792</td>\n      <td>Sushi Rolls Grab &amp; Go</td>\n      <td>https://www.tripadvisor.com/Restaurant_Review-...</td>\n    </tr>\n    <tr>\n      <th>1792</th>\n      <td>1793</td>\n      <td>Food Truck Makarun</td>\n      <td>https://www.tripadvisor.com/Restaurant_Review-...</td>\n    </tr>\n    <tr>\n      <th>1793</th>\n      <td>1794</td>\n      <td>Szalej Cafe</td>\n      <td>https://www.tripadvisor.com/Restaurant_Review-...</td>\n    </tr>\n  </tbody>\n</table>\n<p>1794 rows × 3 columns</p>\n</div>"
     },
     "metadata": {},
     "execution_count": 13
    }
   ],
   "source": [
    "df_1"
   ]
  },
  {
   "source": [
    "## Iterate over links to get page elements"
   ],
   "cell_type": "markdown",
   "metadata": {}
  },
  {
   "cell_type": "code",
   "execution_count": 14,
   "metadata": {},
   "outputs": [],
   "source": [
    "rows_list =  iterate_over_pages(links_to_restaurants)"
   ]
  },
  {
   "source": [
    "## Create DataFrame with restaurant details"
   ],
   "cell_type": "markdown",
   "metadata": {}
  },
  {
   "cell_type": "code",
   "execution_count": 15,
   "metadata": {},
   "outputs": [],
   "source": [
    "df_2 = pd.DataFrame(rows_list)"
   ]
  },
  {
   "source": [
    "## Merge DataFrames"
   ],
   "cell_type": "markdown",
   "metadata": {}
  },
  {
   "cell_type": "code",
   "execution_count": 16,
   "metadata": {},
   "outputs": [],
   "source": [
    "df = df_1.merge(df_2, left_index=True, right_index=True)"
   ]
  },
  {
   "source": [
    "## Export to Excel"
   ],
   "cell_type": "markdown",
   "metadata": {}
  },
  {
   "cell_type": "code",
   "execution_count": 17,
   "metadata": {},
   "outputs": [],
   "source": [
    "df.to_excel('trip_advisor_krakow_data.xlsx', encoding='utf-8', index=False)"
   ]
  },
  {
   "cell_type": "code",
   "execution_count": null,
   "metadata": {},
   "outputs": [],
   "source": []
  }
 ]
}